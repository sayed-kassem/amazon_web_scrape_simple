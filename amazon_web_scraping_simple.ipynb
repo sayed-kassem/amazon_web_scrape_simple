{
 "cells": [
  {
   "cell_type": "code",
   "execution_count": null,
   "id": "cd49458e",
   "metadata": {},
   "outputs": [],
   "source": [
    "import csv \n",
    "import datetime\n",
    "from bs4 import BeautifulSoup\n",
    "import requests\n",
    "import smtplib\n",
    "import time\n",
    "import datetime\n",
    "\n",
    "from selenium import webdriver\n",
    "from selenium.webdriver.common.by import By\n",
    "from selenium.webdriver.support.ui import WebDriverWait\n",
    "from selenium.webdriver.support import expected_conditions as EC\n",
    "\n",
    "def check_price():\n",
    "    driver = webdriver.Chrome()\n",
    "    driver.get(\"https://www.amazon.com/Funny-Data-Systems-Business-Analyst/dp/B07FNW9FGJ/ref=sr_1_3?dchild=1&keywords=data%2Banalyst%2Btshirt&qid=1626655184&sr=8-3&customId=B0752XJYNL&th=1%27&customizationToken=MC_Assembly_1%23B0752XJYNL\")\n",
    "    wait = WebDriverWait(driver, 5)\n",
    "\n",
    "    nav_link = driver.find_element(By.ID, \"nav-global-location-popover-link\")\n",
    "    nav_link.click()\n",
    "    wait = WebDriverWait(driver, 5)\n",
    "    modal = wait.until(EC.presence_of_element_located((By.ID,\"GLUXSpecifyLocationDiv\")))\n",
    "\n",
    "    if modal.is_displayed():\n",
    "        input_field = driver.find_element(By.ID, \"GLUXZipUpdateInput\")\n",
    "        input_field.send_keys(\"902010\")\n",
    "        form_button = driver.find_element(By.ID, \"GLUXZipUpdate\")\n",
    "        form_button.click()\n",
    "        WebDriverWait(driver, 10)\n",
    "        driver.refresh()\n",
    "\n",
    "    page_source = driver.page_source\n",
    "    soup = BeautifulSoup(page_source, 'html.parser')\n",
    "    driver.quit()\n",
    "    title = soup.find(id=\"productTitle\").get_text()\n",
    "    price = soup.find(\"span\", {\"class\": \"a-price aok-align-center reinventPricePriceToPayMargin priceToPay\"}).find(\"span\",{\"class\": \"a-offscreen\"}).get_text()\n",
    "    price = price.strip()[1:]\n",
    "    title = title.strip()\n",
    "    today = datetime.date.today()\n",
    "    \n",
    "    header = ['Product Title', 'Price', \"Date\"]\n",
    "    data = [title, price, today]\n",
    "    \n",
    "    with open(\"Amazon_Web_Scraper_data.csv\",'a+', newline='', encoding='UTF8' ) as f:\n",
    "        writer = csv.writer(f)\n",
    "        writer.writerow(data)"
   ]
  },
  {
   "cell_type": "code",
   "execution_count": null,
   "id": "38d1f481",
   "metadata": {},
   "outputs": [],
   "source": [
    "# run script once everyday as long as your pc/laptop is on\n",
    "while(True):\n",
    "    check_price()\n",
    "    time.sleep(86400)"
   ]
  },
  {
   "cell_type": "code",
   "execution_count": null,
   "id": "d74cd5df",
   "metadata": {},
   "outputs": [],
   "source": [
    "#fun trial to receive email once the price is \n",
    "#where you want on a certain product of your choice\n",
    "def send_mail():\n",
    "    server = smtplib.SMTP_SSL('smtp.gmail.com',465)\n",
    "    \n",
    "    server.ehlo()\n",
    "    server.ehlo()\n",
    "    server.login(\"email\", \"password\")\n",
    "    \n",
    "    subject =\" The item you want is below a certain value, now is your chance to buy\"\n",
    "    body = \" go buy nowwwwww\"\n",
    "    \n",
    "    msg = f\"Subject: {subject} \\n\\n {body}\"\n",
    "    server.sendmail(\"email\", msg)"
   ]
  }
 ],
 "metadata": {
  "kernelspec": {
   "display_name": "Python 3 (ipykernel)",
   "language": "python",
   "name": "python3"
  },
  "language_info": {
   "codemirror_mode": {
    "name": "ipython",
    "version": 3
   },
   "file_extension": ".py",
   "mimetype": "text/x-python",
   "name": "python",
   "nbconvert_exporter": "python",
   "pygments_lexer": "ipython3",
   "version": "3.11.1"
  }
 },
 "nbformat": 4,
 "nbformat_minor": 5
}
